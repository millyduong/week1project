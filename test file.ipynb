{
 "cells": [
  {
   "cell_type": "code",
   "execution_count": 13,
   "metadata": {
    "tags": []
   },
   "outputs": [
    {
     "output_type": "stream",
     "name": "stdout",
     "text": [
      "Current:  https://tiki.vn/laptop-may-vi-tinh/c1846?src=c.1846.hamburger_menu_fly_out_banner&page=200\n",
      "Currently scraping: 200\n",
      "Generating product list works: 48\n",
      "Page at the end of loop 201\n",
      "Current:  https://tiki.vn/laptop-may-vi-tinh/c1846?src=c.1846.hamburger_menu_fly_out_banner&page=201\n",
      "Currently scraping: 201\n",
      "Generating product list works: 48\n",
      "Page at the end of loop 202\n",
      "Current:  https://tiki.vn/laptop-may-vi-tinh/c1846?src=c.1846.hamburger_menu_fly_out_banner&page=202\n",
      "Currently scraping: 202\n",
      "Generating product list works: 0\n"
     ]
    }
   ],
   "source": [
    "import requests\n",
    "import time\n",
    "from random import random\n",
    "from bs4 import BeautifulSoup\n",
    "\n",
    "data = []\n",
    "\n",
    "\n",
    "# starting page to scrape ()\n",
    "page = 200\n",
    "final_page = \"page=1\"\n",
    "while True:\n",
    "    #generates delay:\n",
    "    delay = 0.5\n",
    "\n",
    "    current = \"https://tiki.vn/laptop-may-vi-tinh/c1846?src=c.1846.hamburger_menu_fly_out_banner&page=\" + str(page)\n",
    "    print(\"Current: \", current)\n",
    "\n",
    "    headers = {'User-Agent': 'Mozilla/5.0 (Windows NT 10.0; Win64; x64) AppleWebKit/537.36 (KHTML, like Gecko) Chrome/70.0.3538.77 Safari/537.36'}\n",
    "    r = requests.get(current, headers=headers)\n",
    "    soup = BeautifulSoup(r.text, \"html.parser\")\n",
    "    \n",
    "    print(\"Currently scraping:\", page)\n",
    "\n",
    "    # print(\"Generating soup works:\", soup.prettify()[:100])\n",
    "\n",
    "    products = soup.find_all(\"a\", {\"class\": \"product-item\"})\n",
    "\n",
    "    print(\"Generating product list works:\", len(products))\n",
    "    \n",
    "    \n",
    "    if len(products) != 0:\n",
    "        \n",
    "        for product in products:\n",
    "            d = {'product_id':'', 'free_shipping':'', 'title':'', 'price':'', 'image_url':'', 'reviewer_tot': ''}\n",
    "\n",
    "            try:\n",
    "                d['product_id'] = (product['href'].split('-')[-1])[:-5] \n",
    "            except:\n",
    "                d['product_id'] = 0\n",
    "                print(\"product_id empty\")\n",
    "            try:\n",
    "                d['title'] = product.find('div', {'class':'name'}).text\n",
    "            except:\n",
    "                d['title'] = 0\n",
    "                print(\"title empty\")\n",
    "            try:\n",
    "                d['price'] = product.find('div', {'class':'price-discount__price'}).text\n",
    "            except:\n",
    "                d['price'] = 0\n",
    "                print(\"price empty\")\n",
    "            try:\n",
    "                d['image_url'] = product.img['src']\n",
    "            except:\n",
    "                d['image_url'] = 0\n",
    "                print(\"image_url empty\")\n",
    "            try:\n",
    "                d['free_shipping'] = bool(product.find('div', {'class':'badge-top'}))\n",
    "            except:\n",
    "                d['free_shipping'] = 0\n",
    "                print(\"free shipping empty\")\n",
    "            try:\n",
    "                d['reviewer_tot'] = product.find('div', {'class':'review'}).text\n",
    "            except:\n",
    "                d['reviewer_tot'] = 0\n",
    "                print(\"review_tot empty\")\n",
    "\n",
    "            data.append(d)\n",
    "    else:\n",
    "\n",
    "        break\n",
    "\n",
    "\n",
    "    page += 1\n",
    "    print(f\"Page at the end of loop {page}\")\n",
    "\n",
    "    time.sleep(delay)\n"
   ]
  },
  {
   "cell_type": "code",
   "execution_count": null,
   "metadata": {},
   "outputs": [],
   "source": [
    "import pandas as pd\n",
    "table = pd.DataFrame(data)\n",
    "table.head(5)"
   ]
  },
  {
   "cell_type": "code",
   "execution_count": null,
   "metadata": {},
   "outputs": [],
   "source": []
  }
 ],
 "metadata": {
  "kernelspec": {
   "display_name": "Python 3",
   "language": "python",
   "name": "python3"
  },
  "language_info": {
   "codemirror_mode": {
    "name": "ipython",
    "version": 3
   },
   "file_extension": ".py",
   "mimetype": "text/x-python",
   "name": "python",
   "nbconvert_exporter": "python",
   "pygments_lexer": "ipython3",
   "version": "3.8.3-final"
  }
 },
 "nbformat": 4,
 "nbformat_minor": 4
}