{
 "metadata": {
  "language_info": {
   "codemirror_mode": {
    "name": "ipython",
    "version": 3
   },
   "file_extension": ".py",
   "mimetype": "text/x-python",
   "name": "python",
   "nbconvert_exporter": "python",
   "pygments_lexer": "ipython3",
   "version": "3.8.3-final"
  },
  "orig_nbformat": 2,
  "kernelspec": {
   "name": "python3",
   "display_name": "Python 3"
  }
 },
 "nbformat": 4,
 "nbformat_minor": 2,
 "cells": [
  {
   "cell_type": "code",
   "execution_count": null,
   "metadata": {
    "tags": []
   },
   "outputs": [],
   "source": [
    "import requests\n",
    "import time\n",
    "from random import random\n",
    "from bs4 import BeautifulSoup\n",
    "\n",
    "data = []\n",
    "\n",
    "\n",
    "#need to put page as '1' or target page is null\n",
    "\n",
    "page = 1\n",
    "final_page = \"page=1\"\n",
    "while True:\n",
    "    #generates a random number between 0 and 2:\n",
    "    delay = random() + 3\n",
    "\n",
    "    current = \"https://tiki.vn/laptop-may-vi-tinh/c1846?src=c.1846.hamburger_menu_fly_out_banner&page=\" + str(page)\n",
    "    print(\"Current: \", current)\n",
    "\n",
    "    headers = {'User-Agent': 'Mozilla/5.0 (Windows NT 10.0; Win64; x64) AppleWebKit/537.36 (KHTML, like Gecko) Chrome/70.0.3538.77 Safari/537.36'}\n",
    "    r = requests.get(current, headers=headers)\n",
    "    soup = BeautifulSoup(r.text, \"html.parser\")\n",
    "    \n",
    "    print(\"Current page:\", page)\n",
    "\n",
    "    # print(\"Generating soup works:\", soup.prettify()[:100])\n",
    "\n",
    "    products = soup.find_all(\"a\", {\"class\": \"product-item\"})\n",
    "\n",
    "    print(\"Generating product list works:\", len(products))\n",
    "\n",
    "    # finds page linked under '1' //*[@class=\"current\"]\n",
    "    try:\n",
    "        target_page = soup.find('a', {'class':'current'})['href']\n",
    "    except:\n",
    "        print(soup.find(\"a\", {\"class\": \"current\"}))\n",
    "    target_page_text = soup.find('a', {'class':'current'}).text\n",
    "    # print(\"Generating target page works:\", target_page_text)\n",
    "    print(\"Generating target page works:\", target_page)\n",
    "\n",
    "    for product in products:\n",
    "        d = {'product_id':'', 'free_shipping':'', 'title':'', 'price':'', 'image_url':'', 'reviewer_tot': ''}\n",
    "\n",
    "        try:\n",
    "            d['product_id'] = (product['href'].split('-')[-1])[:-5] \n",
    "            d['title'] = product.find('div', {'class':'name'}).text\n",
    "            d['price'] = product.find('div', {'class':'price-discount__price'}).text\n",
    "            d['image_url'] = product.img['src']\n",
    "            d['free_shipping'] = bool(product.find('div', {'class':'badge-top'}))\n",
    "            d['reviewer_tot'] = product.find('div', {'class':'review'}).text\n",
    "\n",
    "            data.append(d)\n",
    "            \n",
    "        except:\n",
    "            print(\"errors\")\n",
    "\n",
    "\n",
    "\n",
    "    page += 1\n",
    "    print(f\"Page at the end of loop {page}\")\n",
    "\n",
    "    #if target_page == final_page and page != 1:\n",
    "        #print(\"Exception\")\n",
    "        #break\n",
    "    time.sleep(delay)\n",
    "    \n",
    "    \n",
    "\n",
    "\n",
    "\n",
    "#print(data)"
   ]
  },
  {
   "cell_type": "code",
   "execution_count": 27,
   "metadata": {},
   "outputs": [
    {
     "output_type": "execute_result",
     "data": {
      "text/plain": [
       "'195.000 ₫'"
      ]
     },
     "metadata": {},
     "execution_count": 27
    }
   ],
   "source": [
    "headers = {'User-Agent': 'Mozilla/5.0 (Windows NT 10.0; Win64; x64) AppleWebKit/537.36 (KHTML, like Gecko) Chrome/70.0.3538.77 Safari/537.36'}\n",
    "current = \"https://tiki.vn/laptop-may-vi-tinh/c1846?src=c.1846.hamburger_menu_fly_out_banner&page=150\"\n",
    "r = requests.get(current, headers=headers)\n",
    "soup = BeautifulSoup(r.text, \"html.parser\")\n",
    "soup.find('div', {'class':'price-discount__price'}).text "
   ]
  },
  {
   "cell_type": "code",
   "execution_count": null,
   "metadata": {},
   "outputs": [],
   "source": []
  }
 ]
}