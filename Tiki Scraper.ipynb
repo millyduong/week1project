{
 "metadata": {
  "language_info": {
   "codemirror_mode": {
    "name": "ipython",
    "version": 3
   },
   "file_extension": ".py",
   "mimetype": "text/x-python",
   "name": "python",
   "nbconvert_exporter": "python",
   "pygments_lexer": "ipython3",
   "version": "3.8.3-final"
  },
  "orig_nbformat": 2,
  "kernelspec": {
   "name": "python3",
   "display_name": "Python 3"
  }
 },
 "nbformat": 4,
 "nbformat_minor": 2,
 "cells": [
  {
   "cell_type": "code",
   "execution_count": 1,
   "metadata": {},
   "outputs": [
    {
     "output_type": "error",
     "ename": "ModuleNotFoundError",
     "evalue": "No module named 'bs4'",
     "traceback": [
      "\u001b[0;31m---------------------------------------------------------------------------\u001b[0m",
      "\u001b[0;31mModuleNotFoundError\u001b[0m                       Traceback (most recent call last)",
      "\u001b[0;32m<ipython-input-1-12a24110daa0>\u001b[0m in \u001b[0;36m<module>\u001b[0;34m\u001b[0m\n\u001b[1;32m      1\u001b[0m \u001b[0;32mimport\u001b[0m \u001b[0mrequests\u001b[0m\u001b[0;34m\u001b[0m\u001b[0;34m\u001b[0m\u001b[0m\n\u001b[0;32m----> 2\u001b[0;31m \u001b[0;32mfrom\u001b[0m \u001b[0mbs4\u001b[0m \u001b[0;32mimport\u001b[0m \u001b[0mBeautifulSoup\u001b[0m\u001b[0;34m\u001b[0m\u001b[0;34m\u001b[0m\u001b[0m\n\u001b[0m\u001b[1;32m      3\u001b[0m \u001b[0;34m\u001b[0m\u001b[0m\n\u001b[1;32m      4\u001b[0m \u001b[0mdata\u001b[0m \u001b[0;34m=\u001b[0m \u001b[0;34m[\u001b[0m\u001b[0;34m]\u001b[0m\u001b[0;34m\u001b[0m\u001b[0;34m\u001b[0m\u001b[0m\n\u001b[1;32m      5\u001b[0m \u001b[0;34m\u001b[0m\u001b[0m\n",
      "\u001b[0;31mModuleNotFoundError\u001b[0m: No module named 'bs4'"
     ]
    }
   ],
   "source": [
    "import requests\n",
    "from bs4 import BeautifulSoup\n",
    "\n",
    "data = []\n",
    "\n",
    "page = 0\n",
    "\n",
    "final_page = \"page=1\"\n",
    "\n",
    "while True:\n",
    "    headers = {'User-Agent': 'Mozilla/5.0 (Windows NT 10.0; Win64; x64) AppleWebKit/537.36 (KHTML, like Gecko) Chrome/70.0.3538.77 Safari/537.36'}\n",
    "    r = requests.get(f'https://tiki.vn/laptop-may-vi-tinh/c1846?src=c.1846.hamburger_menu_fly_out_banner&page={str(page)}', headers=headers)\n",
    "    soup = BeautifulSoup(r.text, \"html.parser\")\n",
    "    products = soup.find_all(\"a\", {\"class\": \"product-item\"})\n",
    "    target_page = soup.find(\"a\", {\"class\": \"current\"}).get(\"href\").split(\"&\")[-1]\n",
    "\n",
    "    for product in products:\n",
    "        d = {'product_id':'', 'free_shipping':'', 'title':'', 'price':'', 'image_url':'', 'reviewer_tot': ''}\n",
    "\n",
    "        try:\n",
    "            d['product_id'] = (product['href'].split('-')[-1])[:-5] \n",
    "            d['title'] = product.find('div', {'class':'name'}).text\n",
    "            d['price'] = product.find('div', {'class':'price-discount__price'}).text\n",
    "            d['image_url'] = product.img['src']\n",
    "            d['free_shipping'] = bool(product.find('div', {'class':'badge-top'}))\n",
    "            d['reviewer_tot'] = product.find('div', {'class':'review'}).text\n",
    "\n",
    "            data.append(d)\n",
    "            \n",
    "        except:\n",
    "            print(\"errors\")\n",
    "\n",
    "\n",
    "\n",
    "\n",
    "\n",
    "    if target_page == final_page and page != 1:\n",
    "        print(\"Exception\")\n",
    "        break\n",
    "    page += 1\n",
    "    \n",
    "\n",
    "\n",
    "\n",
    "print(data)"
   ]
  }
 ]
}