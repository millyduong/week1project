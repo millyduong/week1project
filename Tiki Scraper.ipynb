{
 "metadata": {
  "language_info": {
   "codemirror_mode": {
    "name": "ipython",
    "version": 3
   },
   "file_extension": ".py",
   "mimetype": "text/x-python",
   "name": "python",
   "nbconvert_exporter": "python",
   "pygments_lexer": "ipython3",
   "version": "3.8.3-final"
  },
  "orig_nbformat": 2,
  "kernelspec": {
   "name": "python3",
   "display_name": "Python 3"
  }
 },
 "nbformat": 4,
 "nbformat_minor": 2,
 "cells": [
  {
   "cell_type": "code",
   "execution_count": 24,
   "metadata": {},
   "outputs": [],
   "source": [
    "import requests\n",
    "import time\n",
    "from random import random\n",
    "from bs4 import BeautifulSoup\n",
    "import pandas as pd\n",
    "\n",
    "data = []\n",
    "\n",
    "def dict_builder(products):\n",
    "\n",
    "            print(f\"Currently scraping {len(products)} products from page {page}.\")\n",
    "\n",
    "            for product in products:\n",
    "\n",
    "                #creates dictionary of product info:\n",
    "                d = {}\n",
    "                d['product_id'] = (product['href'].split('-')[-1])[:-5]    \n",
    "                d['title'] = product.find('div', {'class':'name'}).text\n",
    "                d['price'] = product.find('div', {'class':'price-discount__price'}).text\n",
    "                d['image_url'] = product.img['src']\n",
    "                d['free_shipping'] = bool(product.find('div', {'class':'badge-top'}))\n",
    "                d['reviewer_tot'] = (product.find('div', {'class':'review'}).text).strip('()')\n",
    "                data.append(d)\n",
    "                page += 1\n",
    "\n",
    "def tiki_scraper(category_url, page_start=1):\n",
    "\n",
    "    \n",
    "\n",
    "    while True:\n",
    "        page = page_start\n",
    "        \n",
    "        # generates random delay between 0.5 and 1.5 seconds:\n",
    "        delay = random() + 0.5\n",
    "\n",
    "        # defines target page url \n",
    "        current = category_url + str(page)\n",
    "\n",
    "        # general url business and creating soup obj:\n",
    "        headers = {'User-Agent': 'Mozilla/5.0 (Windows NT 10.0; Win64; x64) AppleWebKit/537.36 (KHTML, like Gecko) Chrome/70.0.3538.77 Safari/537.36'}\n",
    "\n",
    "        r = requests.get(current, headers=headers)\n",
    "        soup = BeautifulSoup(r.text, \"html.parser\")\n",
    "\n",
    "        # populates list of all products on target page:\n",
    "        products = soup.find_all(\"a\", {\"class\": \"product-item\"}) \n",
    "\n",
    "        #checks if there are actually products on the page (i.e. if it has come to final page):\n",
    "        if len(products) != 0:\n",
    "            dict_builder()\n",
    "        \n",
    "        else:\n",
    "            for i in range(1, 21):\n",
    "                print(f\"Scraping failed, trying again for the {i}th time.\")\n",
    "                dict_builder()\n",
    "\n",
    "        #delays next loop initiation\n",
    "        time.sleep(delay)\n"
   ]
  },
  {
   "cell_type": "code",
   "execution_count": 35,
   "metadata": {},
   "outputs": [
    {
     "output_type": "stream",
     "name": "stdout",
     "text": [
      "Currently scraping 48 products from page 205.\n"
     ]
    }
   ],
   "source": [
    "tiki_scraper('https://tiki.vn/laptop-may-vi-tinh/c1846?src=c.1846.hamburger_menu_fly_out_banner&page=',205)\n"
   ]
  },
  {
   "cell_type": "code",
   "execution_count": 65,
   "metadata": {},
   "outputs": [
    {
     "output_type": "execute_result",
     "data": {
      "text/plain": [
       "    product_id  free_shipping  \\\n",
       "331    p455445           True   \n",
       "332    p416911           True   \n",
       "333   p3237473           True   \n",
       "334   p4747467           True   \n",
       "335  p41167737           True   \n",
       "\n",
       "                                                 title        price  \\\n",
       "331  Bộ Kích Sóng Wifi Repeater 300Mbps TP-Link TL-...    239.000 ₫   \n",
       "332  TP-Link  TL-WN823N - USB Wifi chuẩn N tốc độ 3...    139.000 ₫   \n",
       "333  Chuột Có Dây DareU LM130 1000DPI Multi-LED - H...    110.000 ₫   \n",
       "334  Màn Hình Dell P2319H 23inch FullHD 8ms 60Hz IP...  3.690.000 ₫   \n",
       "335  Ram PC Kingston HyperX Fury Black 8GB (1x8GB) ...    739.000 ₫   \n",
       "\n",
       "                                             image_url reviewer_tot  \n",
       "331  https://salt.tikicdn.com/ts/upload/f3/74/46/f4...          699  \n",
       "332  https://salt.tikicdn.com/cache/280x280/ts/prod...          178  \n",
       "333  https://salt.tikicdn.com/cache/280x280/ts/prod...           11  \n",
       "334  https://salt.tikicdn.com/cache/280x280/ts/prod...          151  \n",
       "335  https://salt.tikicdn.com/ts/upload/75/34/d2/4a...          111  "
      ],
      "text/html": "<div>\n<style scoped>\n    .dataframe tbody tr th:only-of-type {\n        vertical-align: middle;\n    }\n\n    .dataframe tbody tr th {\n        vertical-align: top;\n    }\n\n    .dataframe thead th {\n        text-align: right;\n    }\n</style>\n<table border=\"1\" class=\"dataframe\">\n  <thead>\n    <tr style=\"text-align: right;\">\n      <th></th>\n      <th>product_id</th>\n      <th>free_shipping</th>\n      <th>title</th>\n      <th>price</th>\n      <th>image_url</th>\n      <th>reviewer_tot</th>\n    </tr>\n  </thead>\n  <tbody>\n    <tr>\n      <th>331</th>\n      <td>p455445</td>\n      <td>True</td>\n      <td>Bộ Kích Sóng Wifi Repeater 300Mbps TP-Link TL-...</td>\n      <td>239.000 ₫</td>\n      <td>https://salt.tikicdn.com/ts/upload/f3/74/46/f4...</td>\n      <td>699</td>\n    </tr>\n    <tr>\n      <th>332</th>\n      <td>p416911</td>\n      <td>True</td>\n      <td>TP-Link  TL-WN823N - USB Wifi chuẩn N tốc độ 3...</td>\n      <td>139.000 ₫</td>\n      <td>https://salt.tikicdn.com/cache/280x280/ts/prod...</td>\n      <td>178</td>\n    </tr>\n    <tr>\n      <th>333</th>\n      <td>p3237473</td>\n      <td>True</td>\n      <td>Chuột Có Dây DareU LM130 1000DPI Multi-LED - H...</td>\n      <td>110.000 ₫</td>\n      <td>https://salt.tikicdn.com/cache/280x280/ts/prod...</td>\n      <td>11</td>\n    </tr>\n    <tr>\n      <th>334</th>\n      <td>p4747467</td>\n      <td>True</td>\n      <td>Màn Hình Dell P2319H 23inch FullHD 8ms 60Hz IP...</td>\n      <td>3.690.000 ₫</td>\n      <td>https://salt.tikicdn.com/cache/280x280/ts/prod...</td>\n      <td>151</td>\n    </tr>\n    <tr>\n      <th>335</th>\n      <td>p41167737</td>\n      <td>True</td>\n      <td>Ram PC Kingston HyperX Fury Black 8GB (1x8GB) ...</td>\n      <td>739.000 ₫</td>\n      <td>https://salt.tikicdn.com/ts/upload/75/34/d2/4a...</td>\n      <td>111</td>\n    </tr>\n  </tbody>\n</table>\n</div>"
     },
     "metadata": {},
     "execution_count": 65
    }
   ],
   "source": [
    "table = pd.DataFrame(data)\n",
    "table.tail()"
   ]
  },
  {
   "cell_type": "code",
   "execution_count": null,
   "metadata": {},
   "outputs": [],
   "source": []
  }
 ]
}