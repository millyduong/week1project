{
 "metadata": {
  "language_info": {
   "codemirror_mode": {
    "name": "ipython",
    "version": 3
   },
   "file_extension": ".py",
   "mimetype": "text/x-python",
   "name": "python",
   "nbconvert_exporter": "python",
   "pygments_lexer": "ipython3",
   "version": "3.8.3-final"
  },
  "orig_nbformat": 2,
  "kernelspec": {
   "name": "python3",
   "display_name": "Python 3"
  }
 },
 "nbformat": 4,
 "nbformat_minor": 2,
 "cells": [
  {
   "cell_type": "code",
   "execution_count": 220,
   "metadata": {
    "tags": []
   },
   "outputs": [],
   "source": [
    "import requests\n",
    "headers = {'User-Agent': 'Mozilla/5.0 (Windows NT 10.0; Win64; x64) AppleWebKit/537.36 (KHTML, like Gecko) Chrome/70.0.3538.77 Safari/537.36'}\n",
    "r = requests.get('https://tiki.vn/laptop-may-vi-tinh/c1846?src=c.1846.hamburger_menu_fly_out_banner', headers=headers)\n"
   ]
  },
  {
   "cell_type": "code",
   "execution_count": 226,
   "metadata": {},
   "outputs": [
    {
     "output_type": "stream",
     "name": "stdout",
     "text": [
      "<!DOCTYPE html>\n<html class=\"no-js\" lang=\"\">\n <head>\n  <style>\n   html { background: #f4f4f4; } .async-hide body { opacity: 0 !important}\n  </style>\n  <script>\n   (function(a,s,y,n,c,h,i,d,e){s.className+=' '+y;h.start=1*new Date;\n    h.end=i=function(){s.className=s.className.replace(RegExp(' ?'+y),'')};\n    (a[n]=a[n]||[]).hide=h;setTimeout(function(){i();h.end=null},c);h.timeout=c;\n    })(window,document.documentElement,'async-hide','dataLayer',1500,\n    {'GTM-53B3KKW':true});\n  </script>\n  <script>\n   !function(){if('PerformanceLongTaskTiming' in window){var g=window.__tti={e:[]};\ng.o=new PerformanceObserver(function(l){g.e=g.e.concat(l.getEntries())});\ng.o.observe({entryTypes:['longtask']})}}();\n  </script>\n  <script>\n   (function() {    \n            function getCookie(name) {\n              var value = \"; \" + document.cookie;\n              var parts = value.split(\"; \" + name + \"=\");\n              if (parts.length == 2) return parts.pop().split(\";\").shift();\n            }\n         \n"
     ]
    }
   ],
   "source": [
    "from bs4 import BeautifulSoup\n",
    "\n",
    "# r.text is a HTML file so we will use html.parser\n",
    "soup = BeautifulSoup(r.text, 'html.parser')\n",
    "\n",
    "# Make the soup object look nicer\n",
    "print(soup.prettify()[:1000])"
   ]
  },
  {
   "cell_type": "code",
   "execution_count": 228,
   "metadata": {
    "tags": []
   },
   "outputs": [
    {
     "output_type": "stream",
     "name": "stdout",
     "text": [
      "\nAll occurences of the product div sections:\nType: <class 'bs4.element.ResultSet'>\nNumber of products: 0\n0\n"
     ]
    }
   ],
   "source": [
    "# All occurences of the products in that page\n",
    "print(\"\\nAll occurences of the product div sections:\")\n",
    "products = soup.find_all('a', {'class':'product-item'})\n",
    "print(\"Type:\", type(products))\n",
    "print(\"Number of products:\", len(products))\n",
    "print(len(products))\n",
    "\n"
   ]
  },
  {
   "cell_type": "code",
   "execution_count": 223,
   "metadata": {},
   "outputs": [],
   "source": [
    "# create empty list to populate with dictionary later\n",
    "data = []"
   ]
  },
  {
   "cell_type": "code",
   "execution_count": 224,
   "metadata": {},
   "outputs": [
    {
     "output_type": "error",
     "ename": "IndexError",
     "evalue": "list index out of range",
     "traceback": [
      "\u001b[0;31m---------------------------------------------------------------------------\u001b[0m",
      "\u001b[0;31mIndexError\u001b[0m                                Traceback (most recent call last)",
      "\u001b[0;32m<ipython-input-224-3709ef5a8f00>\u001b[0m in \u001b[0;36m<module>\u001b[0;34m\u001b[0m\n\u001b[1;32m     16\u001b[0m         \u001b[0mprint\u001b[0m\u001b[0;34m(\u001b[0m\u001b[0;34m\"errors\"\u001b[0m\u001b[0;34m)\u001b[0m\u001b[0;34m\u001b[0m\u001b[0;34m\u001b[0m\u001b[0m\n\u001b[1;32m     17\u001b[0m \u001b[0;34m\u001b[0m\u001b[0m\n\u001b[0;32m---> 18\u001b[0;31m \u001b[0mprint\u001b[0m\u001b[0;34m(\u001b[0m\u001b[0mdata\u001b[0m\u001b[0;34m[\u001b[0m\u001b[0;36m0\u001b[0m\u001b[0;34m]\u001b[0m\u001b[0;34m)\u001b[0m\u001b[0;34m\u001b[0m\u001b[0;34m\u001b[0m\u001b[0m\n\u001b[0m",
      "\u001b[0;31mIndexError\u001b[0m: list index out of range"
     ]
    }
   ],
   "source": [
    "# create for loop to cycle through list of products\n",
    "for product in products:\n",
    "    d = {'product_id':'', 'free_shipping':'', 'title':'', 'price':'', 'image_url':'', 'reviewer_tot': ''}\n",
    "\n",
    "    try:\n",
    "        d['product_id'] = (product['href'].split('-')[-1])[:-5] \n",
    "        d['title'] = product.find('div', {'class':'name'}).text\n",
    "        d['price'] = product.find('div', {'class':'price-discount__price'}).text\n",
    "        d['image_url'] = product.img['src']\n",
    "        d['free_shipping'] = bool(product.find('div', {'class':'badge-top'}))\n",
    "        d['reviewer_tot'] = product.find('div', {'class':'review'}).text\n",
    "\n",
    "        data.append(d)\n",
    "            \n",
    "    except:\n",
    "        print(\"errors\")\n",
    "\n",
    "print(data[0])"
   ]
  }
 ]
}