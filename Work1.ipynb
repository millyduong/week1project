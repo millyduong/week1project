{
 "metadata": {
  "language_info": {
   "codemirror_mode": {
    "name": "ipython",
    "version": 3
   },
   "file_extension": ".py",
   "mimetype": "text/x-python",
   "name": "python",
   "nbconvert_exporter": "python",
   "pygments_lexer": "ipython3",
   "version": "3.8.3-final"
  },
  "orig_nbformat": 2,
  "kernelspec": {
   "name": "python3",
   "display_name": "Python 3"
  }
 },
 "nbformat": 4,
 "nbformat_minor": 2,
 "cells": [
  {
   "cell_type": "code",
   "execution_count": null,
   "metadata": {},
   "outputs": [],
   "source": [
    "# Import Library\n",
    "\"\"\"\n",
    "mport requests\n",
    "from bs4 import BeautifulSoup\n",
    "\n",
    "def get_url(url):\n",
    "    \"\"\"Get parsed HTML from url\n",
    "      Input: url to the webpage\n",
    "      Output: Parsed HTML text of the webpage\n",
    "    \"\"\"\n",
    "    # Send GET request\n",
    "    r = requests.get(url)\n",
    "\n",
    "    # Parse HTML text\n",
    "    soup = BeautifulSoup(r.text, 'html.parser')\n",
    "\n",
    "    return soup\n",
    "\n",
    "def scrape_vnexpress(url=\"loop url later\"):\n",
    "    \"\"\"Scrape the home page of vnexpress\n",
    "      Input: url to the webpage. Default: https://vnexpress.net/\n",
    "      Output: A list containing scraped data of all articles\n",
    "    \"\"\"\n",
    "\n",
    "    # Get parsed HTML\n",
    "    soup = get_url(url)\n",
    "\n",
    "\n",
    "    # Find all article tags\n",
    "    product_title = soup.find_all('', {'class':'name'})\n",
    "\n",
    "    # List containing data of all articles\n",
    "    data = []\n",
    "\n",
    "    # Extract information of each article\n",
    "    for article in articles:\n",
    "\n",
    "        d = {'title':'', 'url':'', 'image_url':'', 'description':''}\n",
    "        \n",
    "        try:\n",
    "          d['title'] = article.a['title']\n",
    "          d['url'] = article.a['href']\n",
    "          # It is fine to clean the data inside the scraper\n",
    "          # But it is more recommended to do it afterwards\n",
    "          d['description'] = article.p.text.strip('\\n')\n",
    "          if article.img:\n",
    "            d['image_url'] = article.img['data-src']  # or should we use ['src'] ?\n",
    "\n",
    "          # Append the dictionary to data list\n",
    "          data.append(d)\n",
    "        except:\n",
    "          # Skip if error and print error message\n",
    "          print(\"We got one article error!\")\n",
    "\n",
    "    return data\n",
    "scrape_vnexpress()\n",
    "\"\"\""
   ]
  },
  {
   "cell_type": "code",
   "execution_count": 22,
   "metadata": {
    "tags": [
     "outputPrepend"
    ]
   },
   "outputs": [
    {
     "output_type": "stream",
     "name": "stdout",
     "text": [
      "se},{\"query_name\":\"rating\",\"display_name\":\"Đánh giá\",\"values\":[{\"display_value\":\"từ 5 sao\",\"query_value\":\"5\"},{\"display_value\":\"từ 4 sao\",\"query_value\":\"4\"},{\"display_value\":\"từ 3 sao\",\"query_value\":\"3\"}],\"collapsed\":4,\"multi_select\":false},{\"query_name\":\"is_scheduled_delivery_available\",\"display_name\":\"Chọn Giờ Giao Lắp\",\"values\":[{\"display_value\":\"Có\",\"count\":1,\"query_value\":1}],\"collapsed\":4,\"multi_select\":false},{\"query_name\":\"free_ship_badge\",\"display_name\":\"Miễn phí giao hàng\",\"values\":[{\"display_value\":\"Có\",\"count\":6415,\"query_value\":\"true\"},{\"display_value\":\"Không\",\"count\":8620,\"query_value\":\"false\"}],\"collapsed\":4,\"multi_select\":false},{\"query_name\":\"is_best_price_guaranteed\",\"display_name\":\"Rẻ hơn hoàn tiền\",\"values\":[{\"display_value\":\"Có\",\"count\":844,\"query_value\":1},{\"display_value\":\"Không\",\"count\":2377,\"query_value\":0}],\"collapsed\":4,\"multi_select\":false},{\"query_name\":\"price\",\"display_name\":\"Giá\",\"min\":0,\"max\":10000000000,\"values\":[{\"display_value\":\"Dưới 600.000\",\"count\":15287,\"query_value\":\"0,600000\"},{\"display_value\":\"Từ 600.000 đến 4.600.000\",\"count\":15287,\"query_value\":\"600000,4600000\"},{\"display_value\":\"Trên 4.600.000\",\"count\":15287,\"query_value\":\"4600000,10000000000\"}],\"collapsed\":4,\"multi_select\":false},{\"query_name\":\"brand\",\"display_name\":\"Thương hiệu\",\"values\":[{\"display_value\":\"OEM\",\"count\":5455,\"query_value\":\"111461\",\"url_key\":\"thuong-hieu/oem.html\"},{\"display_value\":\"HP\",\"count\":368,\"query_value\":\"17825\",\"url_key\":\"thuong-hieu/hp.html\"},{\"display_value\":\"Asus\",\"count\":317,\"query_value\":\"17826\",\"url_key\":\"thuong-hieu/asus.html\"},{\"display_value\":\"RONALD JACK\",\"count\":239,\"query_value\":\"178025\",\"url_key\":\"thuong-hieu/ronald-jack.html\"},{\"display_value\":\"TP-Link\",\"count\":204,\"query_value\":\"27464\",\"url_key\":\"thuong-hieu/tp-link.html\"},{\"display_value\":\"Dell\",\"count\":187,\"query_value\":\"18805\",\"url_key\":\"thuong-hieu/dell.html\"},{\"display_value\":\"Cisco\",\"count\":182,\"query_value\":\"65095\",\"url_key\":\"thuong-hieu/cisco.html\"},{\"display_value\":\"Canon\",\"count\":171,\"query_value\":\"18806\",\"url_key\":\"thuong-hieu/canon.html\"},{\"display_value\":\"Thuận Phong\",\"count\":168,\"query_value\":\"166913\",\"url_key\":\"thuong-hieu/thuan-phong.html\"},{\"display_value\":\"Joy Collection\",\"count\":160,\"query_value\":\"187561\",\"url_key\":\"thuong-hieu/joy-collection.html\"},{\"display_value\":\"Brother\",\"count\":158,\"query_value\":\"20972\",\"url_key\":\"thuong-hieu/brother.html\"},{\"display_value\":\"WD\",\"count\":150,\"query_value\":\"21862\",\"url_key\":\"thuong-hieu/wd.html\"},{\"display_value\":\"Samsung\",\"count\":148,\"query_value\":\"18802\",\"url_key\":\"thuong-hieu/samsung.html\"},{\"display_value\":\"Xprinter\",\"count\":140,\"query_value\":\"178001\",\"url_key\":\"thuong-hieu/xprinter.html\"},{\"display_value\":\"MSI\",\"count\":139,\"query_value\":\"49067\",\"url_key\":\"thuong-hieu/msi.html\"},{\"display_value\":\"Gigabyte\",\"count\":117,\"query_value\":\"19903\",\"url_key\":\"thuong-hieu/gigabyte.html\"},{\"display_value\":\"UGREEN\",\"count\":113,\"query_value\":\"243693\",\"url_key\":\"thuong-hieu/ugreen.html\"},{\"display_value\":\"Befon\",\"count\":112,\"query_value\":\"287949\",\"url_key\":\"thuong-hieu/befon.html\"},{\"display_value\":\"Lyvystar\",\"count\":109,\"query_value\":\"271379\",\"url_key\":\"thuong-hieu/lyvystar.html\"},{\"display_value\":\"Huawei\",\"count\":106,\"query_value\":\"19788\",\"url_key\":\"thuong-hieu/huawei.html\"},{\"display_value\":\"SAMZHE\",\"count\":104,\"query_value\":\"205267\",\"url_key\":\"thuong-hieu/samzhe.html\"},{\"display_value\":\"Kingston\",\"count\":103,\"query_value\":\"19073\",\"url_key\":\"thuong-hieu/kingston.html\"},{\"display_value\":\"Intel\",\"count\":100,\"query_value\":\"40960\",\"url_key\":\"thuong-hieu/intel.html\"},{\"display_value\":\"Tenda\",\"count\":100,\"query_value\":\"27703\",\"url_key\":\"thuong-hieu/tenda.html\"},{\"display_value\":\"Orico \",\"count\":95,\"query_value\":\"110682\",\"url_key\":\"thuong-hieu/orico.html\"},{\"display_value\":\"EPSON\",\"count\":93,\"query_value\":\"114445\",\"url_key\":\"thuong-hieu/epson.html\"},{\"display_value\":\"SanDisk\",\"count\":93,\"query_value\":\"18845\",\"url_key\":\"thuong-hieu/sandisk.html\"},{\"display_value\":\"Acer\",\"count\":91,\"query_value\":\"18803\",\"url_key\":\"thuong-hieu/acer.html\"},{\"display_value\":\"TOTOLINK\",\"count\":86,\"query_value\":\"48191\",\"url_key\":\"thuong-hieu/totolink.html\"},{\"display_value\":\"D-Link\",\"count\":68,\"query_value\":\"27465,842789\",\"url_key\":\"thuong-hieu/dlink.html\"}],\"collapsed\":4,\"multi_select\":true},{\"query_name\":\"seller\",\"display_name\":\"Nhà cung cấp\",\"values\":[{\"display_value\":\"Tiki Trading\",\"count\":2354,\"logo\":\"https://vcdn.tikicdn.com/ts/seller/ee/fa/a0/98f3f134f85cff2c6972c31777629aa0.png\",\"query_value\":\"1\",\"seller_address\":\"\"},{\"display_value\":\"Laptop Minh Hà\",\"count\":1907,\"logo\":\"https://vcdn.tikicdn.com/ts/seller/2c/4d/98/81092acd0fa710b3c2f6f15bfd2aaa6e.jpg\",\"query_value\":\"126154\",\"seller_address\":\"Số 10 ngõ 161 Thái Hà, Phường Trung Liệt, Quận Đống Đa, Hà Nội\"},{\"display_value\":\"Joybuy Channel\",\"count\":1412,\"logo\":\"https://vcdn.tikicdn.com/ts/seller/59/96/35/901306ce19ebcbdbcbe9c273b1e052d1.jpg\",\"query_value\":\"4560\",\"seller_address\":\"\"},{\"display_value\":\"Hải An Store\",\"count\":1234,\"logo\":\"https://vcdn.tikicdn.com/ts/seller/4b/54/1a/f385a79a716cb3505f152e7af8c769aa.png\",\"query_value\":\"61717\",\"seller_address\":\"Số 8Q30B Ngõ 136 Nguyễn An Ninh, Phường Tương Mai, Quận Hoàng Mai, Hà Nội\"},{\"display_value\":\"SAFARISG\",\"count\":981,\"logo\":\"https://vcdn.tikicdn.com/ts/seller/4b/5c/ba/f03c738e1e1d4b05b5c91fec3e6c5c4b.png\",\"query_value\":\"54535\",\"seller_address\":\"117/39 Nguyễn Hữu Cảnh, Phường 22, Quận Bình Thạnh, Hồ Chí Minh\"},{\"display_value\":\"congnghevn247\",\"count\":906,\"logo\":\"https://vcdn.tikicdn.com/ts/seller/4b/54/1a/f385a79a716cb3505f152e7af8c769aa.png\",\"query_value\":\"133062\",\"seller_address\":\"117/39 Nguyễn Hữu Cảnh, Phường 22, Quận Bình Thạnh, Hồ Chí Minh\"},{\"display_value\":\"Cửa Hàng Vi Tính Ngọc Phước\",\"count\":727,\"logo\":\"https://vcdn.tikicdn.com/ts/seller/a6/d2/25/9d250ec2e2fd6cbb21f44f6228e482be.png\",\"query_value\":\"71190\",\"seller_address\":\"307/25 Thạch Lam, Phường Phú Thạnh, Quận Tân Phú, Hồ Chí Minh\"},{\"display_value\":\"Vi Tính Lê Huy\",\"count\":694,\"logo\":\"https://vcdn.tikicdn.com/ts/seller/46/bf/c5/9c567925e5c8a3aa84c67159d8a4946c.png\",\"query_value\":\"12395\",\"seller_address\":\"48 Chấn Hưng, Phường 06, Quận Tân Bình, Hồ Chí Minh\"},{\"display_value\":\"Khang Minh Computer\",\"count\":375,\"logo\":\"https://vcdn.tikicdn.com/ts/seller/4b/54/1a/f385a79a716cb3505f152e7af8c769aa.png\",\"query_value\":\"154264\",\"seller_address\":\"28 Bà Triệu, Phường Hàng Bài, Quận Hoàn Kiếm, Hà Nội\"},{\"display_value\":\"Pin Laptop Pro\",\"count\":372,\"logo\":\"https://vcdn.tikicdn.com/ts/seller/df/61/67/f039de5767c83c24d0c0ffc71751b84e.png\",\"query_value\":\"44377\",\"seller_address\":\"151 Hồ Bá Kiện, Phường 15, Quận 10, Hồ Chí Minh\"},{\"display_value\":\"Máy Tính Bảo Minh\",\"count\":370,\"logo\":\"https://vcdn.tikicdn.com/ts/seller/4b/54/1a/f385a79a716cb3505f152e7af8c769aa.png\",\"query_value\":\"65781\",\"seller_address\":\"Số 4a Lương Thế Vinh, Phường Mộ Lao, Quận Hà Đông, Hà Nội\"},{\"display_value\":\"Shop TT\",\"count\":364,\"logo\":\"https://vcdn.tikicdn.com/ts/seller/4b/54/1a/f385a79a716cb3505f152e7af8c769aa.png\",\"query_value\":\"72435\",\"seller_address\":\"109 phú diễn , Phường Phú Diễn, Quận Bắc Từ Liêm, Hà Nội\"},{\"display_value\":\"Công ty thiết bị máy văn phòng Hà Anh\",\"count\":300,\"logo\":\"https://vcdn.tikicdn.com/ts/seller/4b/54/1a/f385a79a716cb3505f152e7af8c769aa.png\",\"query_value\":\"2671\",\"seller_address\":\"Số 5 ngách 255/3, Phường Đồng Tâm, Quận Hai Bà Trưng, Hà Nội\"},{\"display_value\":\"Mực in máy in Nhật Hưng\",\"count\":295,\"logo\":\"https://vcdn.tikicdn.com/ts/seller/27/53/8c/91fee2b381a27ecfaf6b4c3e47ec5067.jpg\",\"query_value\":\"65686\",\"seller_address\":\"212/7 nguyễn thái bình, p12, q.tân bình, Phường 12, Quận Tân Bình, Hồ Chí Minh\"},{\"display_value\":\"Nova Computer\",\"count\":290,\"logo\":\"https://vcdn.tikicdn.com/ts/seller/0d/41/7d/3607f140ad6e1ce47a1c94dcf2347643.jpg\",\"query_value\":\"915\",\"seller_address\":\"16-18 Tôn thất tùng, Phường Bến Thành, Quận 1, Hồ Chí Minh\"},{\"display_value\":\"Minh Chau Computer\",\"count\":286,\"logo\":\"https://vcdn.tikicdn.com/ts/seller/2f/57/c9/221b89250299d3287999ea922b3c5dc9.jpg\",\"query_value\":\"9980\",\"seller_address\":\"Số 172, Đường Phú Diễn, P. Phú Diễn, Q. Bắc Từ Liêm, TP. Hà Nội, Phường Phú Diễn, Quận Bắc Từ Liêm, Hà Nội, Phường Phú Diễn, Quận Bắc Từ Liêm, Hà Nội\"},{\"display_value\":\"Techoffice Việt Nam\",\"count\":271,\"logo\":\"https://vcdn.tikicdn.com/ts/seller/4b/54/1a/f385a79a716cb3505f152e7af8c769aa.png\",\"query_value\":\"33316\",\"seller_address\":\"C11 TT DAI HOC XAY DUNG,( ngõ 194 dduong giai phong) PHUONG LIET WARD, THANH XUAN DIST, Phường Phương Liệt, Quận Thanh Xuân, Hà Nội\"},{\"display_value\":\"Shop Dealer\",\"count\":269,\"logo\":\"https://vcdn.tikicdn.com/ts/seller/4b/54/1a/f385a79a716cb3505f152e7af8c769aa.png\",\"query_value\":\"104014\",\"seller_address\":\"106 nhà 24/58 Trần Bình, Phường Mai Dịch, Quận Cầu Giấy, Hà Nội\"},{\"display_value\":\"Thiết bị máy văn phòng\",\"count\":247,\"logo\":\"https://vcdn.tikicdn.com/ts/seller/ab/41/a5/62224aa4ceeb2858c88dbe513980a0cf.jpg\",\"query_value\":\"10336\",\"seller_address\":\".116/2 Hùng Vương, Phường 09, Quận 5, Hồ Chí Minh\"},{\"display_value\":\"Tin Học Hoàng Kim\",\"count\":242,\"logo\":\"https://vcdn.tikicdn.com/ts/seller/bf/ce/4e/e995a297d24c3207a2856b64bee2ce22.jpg\",\"query_value\":\"26446\",\"seller_address\":\"72/1 Trần Đình Xu, Phường Cô Giang, Quận 1, TPHCM, Phường Cô Giang, Quận 1, Hồ Chí Minh\"},{\"display_value\":\"Vi Tính Chí Cường\",\"count\":239,\"logo\":\"https://vcdn.tikicdn.com/ts/seller/4c/19/8d/8cdb859377060f1871ad8c0ce677ad65.jpg\",\"query_value\":\"3103\",\"seller_address\":\"480/13 cách mạng tháng tám, Phường 11, Quận 3, Hồ Chí Minh\"},{\"display_value\":\"CPTM 4TECH\",\"count\":219,\"logo\":\"https://vcdn.tikicdn.com/ts/seller/4b/54/1a/f385a79a716cb3505f152e7af8c769aa.png\",\"query_value\":\"19627\",\"seller_address\":\"Số 18a ngõ 307 Bùi Xương Trạch, Phường Định Công, Quận Hoàng Mai, Hà Nội\"},{\"display_value\":\"TIN HỌC THÀNH NHÂN\",\"count\":213,\"logo\":\"https://vcdn.tikicdn.com/ts/seller/4b/54/1a/f385a79a716cb3505f152e7af8c769aa.png\",\"query_value\":\"16972\",\"seller_address\":\"409 NGUYỄN THÁI BÌNH, Phường 12, Quận Tân Bình, Hồ Chí Minh\"},{\"display_value\":\"Máy tính Lanh Dung\",\"count\":204,\"logo\":\"https://vcdn.tikicdn.com/ts/seller/36/ee/69/4bac0faa8f2af2c9bd87310e783e9b7f.jpg\",\"query_value\":\"7934\",\"seller_address\":\"58 chiến thắng, Phường Văn Quán, Quận Hà Đông, Hà Nội\"},{\"display_value\":\"Vietstore24h\",\"count\":201,\"logo\":\"https://vcdn.tikicdn.com/ts/seller/5e/db/e6/78033ffbeda4d151d5395a50731dce9f.png\",\"query_value\":\"76796\",\"seller_address\":\"28 Lưu Nhân Chú, Phường 5, q tân bÌnh, Phường 05, Quận Tân Bình, Hồ Chí Minh\"},{\"display_value\":\"KIM SƠN TECH\",\"count\":196,\"logo\":\"https://vcdn.tikicdn.com/ts/seller/1e/39/bf/30ad0af98a51a8f3a89b352cc8536c1a.png\",\"query_value\":\"15671\",\"seller_address\":\"451/14 tô hiến thành, Phường 14, Quận 10, Hồ Chí Minh\"},{\"display_value\":\"Công Nghệ Anh Long\",\"count\":195,\"logo\":\"https://vcdn.tikicdn.com/ts/seller/d6/68/82/a5bb049c2637fb13890e935eefb1405e.jpg\",\"query_value\":\"61236\",\"seller_address\":\"104/20 Thành Thái, Phường 12, Quận 10, Hồ Chí Minh\"},{\"display_value\":\"Siêu Thị Công Nghệ Online\",\"count\":188,\"logo\":\"https://vcdn.tikicdn.com/ts/seller/9f/df/0f/d23e25daaadad126e932e897a4cc2e0c.jpg\",\"query_value\":\"101260\",\"seller_address\":\"350/28/3 lê đức thọ, Phường 06, Quận Gò Vấp, Hồ Chí Minh\"},{\"display_value\":\"VI TÍNH NAM TRUNG HẢI\",\"count\":186,\"logo\":\"https://vcdn.tikicdn.com/ts/seller/e0/4a/74/e7144f9e9f87ee90acb39c1068e9b422.png\",\"query_value\":\"20367\",\"seller_address\":\"26 LƯU NHÂN CHÚ, Phường 05, Quận Tân Bình, Hồ Chí Minh\"},{\"display_value\":\"Shop Công Nghệ VN\",\"count\":184,\"logo\":\"https://vcdn.tikicdn.com/ts/seller/ac/90/20/4c327540504acd8e057bc711bc088593.jpg\",\"query_value\":\"37343\",\"seller_address\":\"702/62 Điện Biên Phủ, Phường 10, Quận 10, Hồ Chí Minh\"}],\"collapsed\":4,\"multi_select\":false}],\"sort_options\":[{\"display_value\":\"Chọn lọc\",\"query_value\":\"position\",\"selected\":true},{\"display_value\":\"Hàng mới\",\"query_value\":\"newest\",\"selected\":false},{\"display_value\":\"Bán chạy\",\"query_value\":\"top_seller\",\"selected\":false},{\"display_value\":\"Giảm giá nhiều\",\"query_value\":\"discount_percent,desc\",\"selected\":false},{\"display_value\":\"Giá thấp\",\"query_value\":\"price,asc\",\"selected\":false},{\"display_value\":\"Giá cao\",\"query_value\":\"price,desc\",\"selected\":false}],\"sellers\":[],\"staticBanner\":{\"category\":\"[{\\\"id\\\":2,\\\"position\\\":0,\\\"blocks\\\":[{\\\"id\\\":6,\\\"type\\\":\\\"image\\\",\\\"content\\\":{\\\"title\\\":\\\"\\\",\\\"url\\\":\\\"https:\\\\/\\\\/tiki.vn\\\\/laptop\\\\/c8095\\\",\\\"openInNewTab\\\":true,\\\"path\\\":\\\"https:\\\\/\\\\/salt.tikicdn.com\\\\/ts\\\\/categoryblock\\\\/3b\\\\/0d\\\\/d1\\\\/f18844557c499a964fab3dc5d3fada73.png\\\"},\\\"position\\\":0,\\\"rowID\\\":2},{\\\"id\\\":7,\\\"type\\\":\\\"image\\\",\\\"content\\\":{\\\"title\\\":\\\"\\\",\\\"url\\\":\\\"https:\\\\/\\\\/tiki.vn\\\\/macbook-imac\\\\/c2458\\\",\\\"openInNewTab\\\":true,\\\"path\\\":\\\"https:\\\\/\\\\/salt.tikicdn.com\\\\/ts\\\\/categoryblock\\\\/c3\\\\/01\\\\/eb\\\\/41ed16d900533ddf279c3bd795b51a90.png\\\"},\\\"position\\\":1,\\\"rowID\\\":2},{\\\"id\\\":12,\\\"type\\\":\\\"image\\\",\\\"content\\\":{\\\"title\\\":\\\"\\\",\\\"url\\\":\\\"https:\\\\/\\\\/tiki.vn\\\\/man-hinh-may-tinh\\\\/c2665\\\",\\\"openInNewTab\\\":true,\\\"path\\\":\\\"https:\\\\/\\\\/salt.tikicdn.com\\\\/ts\\\\/categoryblock\\\\/96\\\\/de\\\\/22\\\\/ec2f819bed7cd9cb39ca6c9015778168.png\\\"},\\\"position\\\":2,\\\"rowID\\\":2},{\\\"id\\\":5,\\\"type\\\":\\\"image\\\",\\\"content\\\":{\\\"title\\\":\\\"\\\",\\\"url\\\":\\\"https:\\\\/\\\\/tiki.vn\\\\/laptop-gaming\\\\/c5584\\\",\\\"openInNewTab\\\":true,\\\"path\\\":\\\"https:\\\\/\\\\/salt.tikicdn.com\\\\/ts\\\\/categoryblock\\\\/9e\\\\/12\\\\/37\\\\/59a79d8891d365a6a99c3f9efe79e74f.png\\\"},\\\"position\\\":3,\\\"rowID\\\":2}]},{\\\"id\\\":3,\\\"position\\\":1,\\\"blocks\\\":[{\\\"id\\\":9,\\\"type\\\":\\\"image\\\",\\\"content\\\":{\\\"title\\\":\\\"\\\",\\\"url\\\":\\\"https:\\\\/\\\\/tiki.vn\\\\/thiet-bi-mang\\\\/c2663\\\",\\\"openInNewTab\\\":true,\\\"path\\\":\\\"https:\\\\/\\\\/salt.tikicdn.com\\\\/ts\\\\/categoryblock\\\\/59\\\\/78\\\\/80\\\\/b781f2db2797865e8865ddd0d8e7debf.png\\\"},\\\"position\\\":0,\\\"rowID\\\":3},{\\\"id\\\":13,\\\"type\\\":\\\"image\\\",\\\"content\\\":{\\\"title\\\":\\\"\\\",\\\"url\\\":\\\"https:\\\\/\\\\/tiki.vn\\\\/may-in-may-scan\\\\/c2308\\\",\\\"openInNewTab\\\":true,\\\"path\\\":\\\"https:\\\\/\\\\/salt.tikicdn.com\\\\/ts\\\\/categoryblock\\\\/49\\\\/9b\\\\/a2\\\\/6711067dbb9f3316fddb7ac40f62606d.png\\\"},\\\"position\\\":1,\\\"rowID\\\":3},{\\\"id\\\":14,\\\"type\\\":\\\"image\\\",\\\"content\\\":{\\\"title\\\":\\\"\\\",\\\"url\\\":\\\"https:\\\\/\\\\/tiki.vn\\\\/card-man-hinh-vga\\\\/c11958\\\",\\\"openInNewTab\\\":true,\\\"path\\\":\\\"https:\\\\/\\\\/salt.tikicdn.com\\\\/ts\\\\/categoryblock\\\\/d9\\\\/14\\\\/4e\\\\/33181b043b282ca19dfd3f235abb28f9.png\\\"},\\\"position\\\":2,\\\"rowID\\\":3},{\\\"id\\\":11,\\\"type\\\":\\\"image\\\",\\\"content\\\":{\\\"title\\\":\\\"\\\",\\\"url\\\":\\\"https:\\\\/\\\\/tiki.vn\\\\/thiet-bi-luu-tru\\\\/c8060\\\",\\\"openInNewTab\\\":true,\\\"path\\\":\\\"https:\\\\/\\\\/salt.tikicdn.com\\\\/ts\\\\/categoryblock\\\\/fb\\\\/f3\\\\/e8\\\\/8dc49041f3b670e5b6fd6ed4b4e6b31a.png\\\"},\\\"position\\\":3,\\\"rowID\\\":3},{\\\"id\\\":8,\\\"type\\\":\\\"image\\\",\\\"content\\\":{\\\"title\\\":\\\"\\\",\\\"url\\\":\\\"https:\\\\/\\\\/tiki.vn\\\\/linh-kien-may-tinh\\\\/c8129\\\",\\\"openInNewTab\\\":true,\\\"path\\\":\\\"https:\\\\/\\\\/salt.tikicdn.com\\\\/ts\\\\/categoryblock\\\\/54\\\\/c6\\\\/bb\\\\/f22a3d218fdfc174b9d29e20f02b1d49.png\\\"},\\\"position\\\":4,\\\"rowID\\\":3}]}]\",\"brand\":null,\"banners\":[{\"id\":45340,\"title\":\"[Laptop] Săn deal Laptop\",\"content\":\"[Laptop] Săn deal Laptop\",\"url\":\"https://tiki.vn/chuong-trinh/san-deal-laptop\",\"image_url\":\"https://salt.tikicdn.com/ts/banner/34/21/bb/1d869d0922c453d6ee938253dcb3a871.png\",\"thumbnail_url\":\"https://salt.tikicdn.com/ts/banner/34/21/bb/d452230d717754f0ca10844bd7f2ba64.png\",\"mobile_url\":\"https://salt.tikicdn.com/ts/banner/34/21/bb/0f2055f38da783b46c937c5b831f0673.png\"},{\"id\":45161,\"title\":\"[1P][Laptop - IT] Ngày hội thuơng hiệu\",\"content\":\"[1P][Laptop - IT] Ngày hội thuơng hiệu\",\"url\":\"https://tiki.vn/chuong-trinh/laptop-thiet-bi-it-chinh-hang\",\"image_url\":\"https://salt.tikicdn.com/ts/banner/d3/be/71/5ef563e60c6474802ae5fe8ae0b4f9ee.jpg\",\"thumbnail_url\":\"https://salt.tikicdn.com/ts/banner/d3/be/71/7ac7583ba22a3662d8d966382ed2b8fb.jpg\",\"mobile_url\":\"https://salt.tikicdn.com/cache/w750/ts/banner/d3/be/71/04b0bd4140e24a984bd7b043d226ae9d.jpg\"}],\"from_cache\":1},\"queryParams\":{\"category\":\"1846\",\"page\":1},\"query\":{\"src\":\"c.1846.hamburger_menu_fly_out_banner\",\"urlKey\":\"laptop-may-vi-tinh-linh-kien\",\"categoryId\":\"1846\"},\"bottomBanners\":[],\"sidebarBanners\":[{\"id\":45879,\"title\":\"TikiCARD_CateLeft\",\"content\":\"\",\"url\":\"https://tiki.vn/chuong-trinh/mo-the-tikicard\",\"image_url\":\"https://salt.tikicdn.com/ts/banner/d7/85/8a/bddb834436aec2cad23ae4aed5a717f9.jpg\",\"thumbnail_url\":\"\",\"mobile_url\":\"https://salt.tikicdn.com/cache/w750/ts/banner/d7/85/8a/5b6e0a0abb1b5a6566787b8fba702ee5.jpg\"}],\"widgets\":[{\"code\":\"suggested_filters_inline\",\"placement\":\"inline\",\"position\":11,\"type\":\"suggested_filters_inline\",\"title\":\"Bộ Lọc Phổ Biến\",\"items\":[{\"display_value\":\"Laptop\",\"query_name\":\"category\",\"display_name\":\"Danh mục sản phẩm\",\"query_value\":\"8095\"},{\"display_value\":\"Có\",\"query_name\":\"support_p2h_delivery\",\"display_name\":\"Giao nhanh\",\"query_value\":\"1\"},{\"display_value\":\"Dưới 1.000.000\",\"query_name\":\"price\",\"display_name\":\"Giá\",\"query_value\":\"0,1000000\"}]},{\"code\":\"popular_filters_inline\",\"multi_select\":false,\"placement\":\"inline\",\"position\":21,\"type\":\"popular_filters_inline\",\"title\":\"Danh mục sản phẩm\",\"items\":[{\"display_value\":\"Laptop\",\"query_name\":\"category\",\"query_value\":\"8095\"},{\"display_value\":\"Linh Kiện Máy Tính - Phụ Kiện Máy Tính\",\"query_name\":\"category\",\"query_value\":\"8129\"},{\"display_value\":\"Laptop - Máy Vi Tính - Linh kiện\",\"query_name\":\"category\",\"query_value\":\"1846\"},{\"display_value\":\"PC - Máy Tính Bộ\",\"query_name\":\"category\",\"query_value\":\"8093\"}]}]},\"deal\":{\"flashDeals\":[],\"flashDealsEmpty\":false,\"flashDealTimes\":[],\"flashDealTags\":[],\"pagingFlashDeals\":{},\"paramsFlashDeals\":{\"time_id\":\"now\"},\"errorFlashDeals\":{}},\"accountTikinow\":{\"cancel\":{\"step\":\"qna\",\"submitting\":false,\"reasonCode\":null,\"cancelResponse\":{\"title\":\"Bạn đã hủy TikiNOW thành công\",\"content\":[{\"text\":\"Gói Hội viên TikiNOW sẽ hết hạn vào ngày \\u003cb\\u003e29/12/2020\\u003c/b\\u003e. Kể từ ngày 30/12/2020, bạn sẽ không còn được hưởng các quyền lợi dành cho hội viên.\",\"is_highlighted\":false},{\"text\":\"Theo Chính sách của TikiNOW, bạn sẽ không được hoàn tiền cho yêu cầu Huỷ TikiNOW này.\\u003cbr/\\u003e\\u003cb\\u003e\\u003ca href=\\\"https://tiki.vn\\\"\\u003eXem chi tiết tại đây \\u003e\\u003c/a\\u003e\\u003c/b\\u003e\",\"is_highlighted\":true},{\"text\":\"TikiNOW rất tiếc vì đã không đáp ứng được nhu cầu của bạn. Chúng tôi sẽ cố gắng hoàn thiện chất lượng dịch vụ, hy vọng bạn sẽ quay lại để trải nghiệm.\",\"is_highlighted\":false},{\"text\":\"Cảm ơn bạn đã sử dụng TikiNOW.\",\"is_highlighted\":false}]},\"errorMessage\":null},\"cancellationInfo\":{\"loading\":false,\"data\":null},\"cancelReasons\":{\"loading\":false,\"data\":[],\"metadata\":null}},\"reward\":{\"image\":null,\"title\":null,\"subject\":null}},\"initialProps\":{\"isMobile\":false,\"pageProps\":{\"isWebview\":false,\"isServer\":true,\"categoryId\":\"1846\",\"urlKey\":\"laptop-may-vi-tinh-linh-kien\"}}},\"page\":\"/Catalog/Category\",\"query\":{\"src\":\"c.1846.hamburger_menu_fly_out_banner\",\"urlKey\":\"laptop-may-vi-tinh-linh-kien\",\"categoryId\":\"1846\"},\"buildId\":\"RgjNozDQPdH0djTPCfGa4\",\"assetPrefix\":\"https://frontend.tikicdn.com/_desktop-next\",\"dynamicIds\":[1049]};__NEXT_LOADED_PAGES__=[];__NEXT_REGISTER_PAGE=function(r,f){__NEXT_LOADED_PAGES__.push([r, f])}</script><script async=\"\" id=\"__NEXT_PAGE__/Catalog/Category\" src=\"https://frontend.tikicdn.com/_desktop-next/_next/static/RgjNozDQPdH0djTPCfGa4/pages/Catalog/Category.js\"></script><script async=\"\" id=\"__NEXT_PAGE__/_app\" src=\"https://frontend.tikicdn.com/_desktop-next/_next/static/RgjNozDQPdH0djTPCfGa4/pages/_app.js\"></script><script async=\"\" id=\"__NEXT_PAGE__/_error\" src=\"https://frontend.tikicdn.com/_desktop-next/_next/static/RgjNozDQPdH0djTPCfGa4/pages/_error.js\"></script><script async=\"\" src=\"https://frontend.tikicdn.com/_desktop-next/_next/static/chunks/comp.Header.b5414695b74fd60d96eb.js\"></script><script src=\"https://frontend.tikicdn.com/_desktop-next/_next/static/runtime/webpack-1133a959f880d21f2d31.js\" async=\"\"></script><script src=\"https://frontend.tikicdn.com/_desktop-next/_next/static/chunks/commons.80ffb47624428e00cbdd.js\" async=\"\"></script><script src=\"https://frontend.tikicdn.com/_desktop-next/_next/static/runtime/main-da99a47f9bac49dce114.js\" async=\"\"></script><div id=\"snackbar-root\"></div><div id=\"snack-bar\"></div></body></html>\n"
     ]
    }
   ],
   "source": [
    "import requests\n",
    "headers = {'User-Agent': 'Mozilla/5.0 (Windows NT 10.0; Win64; x64) AppleWebKit/537.36 (KHTML, like Gecko) Chrome/70.0.3538.77 Safari/537.36'}\n",
    "r = requests.get('https://tiki.vn/laptop-may-vi-tinh/c1846?src=c.1846.hamburger_menu_fly_out_banner', headers=headers)\n",
    "print(r.text)"
   ]
  },
  {
   "cell_type": "code",
   "execution_count": 23,
   "metadata": {},
   "outputs": [
    {
     "output_type": "stream",
     "name": "stdout",
     "text": [
      "<!DOCTYPE html>\n<html class=\"no-js\" lang=\"vi\">\n <head>\n  <meta charset=\"utf-8\" class=\"next-head\"/>\n  <link class=\"next-head\" href=\"https://frontend.tikicdn.com/_desktop-next/static/css/_sprite.css?v=202011103049JLCLpKyb1TnVkwpIyyxHU\" rel=\"stylesheet\" type=\"text/css\"/>\n  <title class=\"next-head\">\n   Mua online Laptop - Máy Vi Tính - Linh kiện giá cực tốt | Tiki\n  </title>\n  <meta class=\"next-head\" content=\"Mua online Laptop - Máy Vi Tính - Linh kiện giá cực tốt | Tiki\" property=\"og:title\"/>\n  <meta class=\"next-head\" content=\"Nhiều mặt hàng Laptop - Máy Vi Tính - Linh kiện hàng chất lượng, mẫu mã đa dạng, freeship và giao siêu nhanh. Shop uy tín\" property=\"og:description\"/>\n  <meta class=\"next-head\" content=\"Nhiều mặt hàng Laptop - Máy Vi Tính - Linh kiện hàng chất lượng, mẫu mã đa dạng, freeship và giao siêu nhanh. Shop uy tín\" name=\"description\"/>\n  <link class=\"next-head\" href=\"https://tiki.vn/laptop-may-vi-tinh-linh-kien/c1846.html\" rel=\"canonical\"/>\n  <meta class=\"next-head\" content\n"
     ]
    }
   ],
   "source": [
    "from bs4 import BeautifulSoup\n",
    "\n",
    "# r.text is a HTML file so we will use html.parser\n",
    "soup = BeautifulSoup(r.text, 'html.parser')\n",
    "\n",
    "# Make the soup object look nicer\n",
    "print(soup.prettify()[:1000])"
   ]
  },
  {
   "cell_type": "code",
   "execution_count": null,
   "metadata": {
    "tags": [
     "outputPrepend"
    ]
   },
   "outputs": [],
   "source": [
    "# All occurences of the products in that page\n",
    "print(\"\\nAll occurences of the product div sections:\")\n",
    "products = soup.find_all('a', {'class':'product-item'})\n",
    "print(\"Type:\", type(products))\n",
    "print(\"Number of products:\", len(products))\n",
    "print(products)\n",
    "\n"
   ]
  },
  {
   "cell_type": "code",
   "execution_count": 24,
   "metadata": {},
   "outputs": [],
   "source": [
    "# create empty list to populate with dictionary later\n",
    "data = []"
   ]
  },
  {
   "cell_type": "code",
   "execution_count": 26,
   "metadata": {},
   "outputs": [
    {
     "output_type": "stream",
     "name": "stdout",
     "text": [
      "{'product_id': '', 'seller_id': '', 'title': 'Phần Mềm Diệt Virus BKAV Profressional 1 PC 12 Tháng - Hàng Chính Hãng', 'price': '-35%', 'image_url': ''}\n"
     ]
    }
   ],
   "source": [
    "# create for loop to cycle through list of products\n",
    "for product in products:\n",
    "    d = {'product_id':'', 'seller_id': '', 'title':'', 'price':'', 'image_url':''}\n",
    "\n",
    "    try:\n",
    "        #d['product_id'] = product.\n",
    "        #d['seller_id'] = product.\n",
    "        d['title'] = product.find('div', {'class':'name'}).text\n",
    "        d['price'] = product.find('div', {'class':'price-discount__price'}).text\n",
    "        #d['image_url'] = product[]\n",
    "        data.append(d)\n",
    "            \n",
    "    except:\n",
    "        print(\"errors\")\n",
    "\n",
    "print(data[0])"
   ]
  },
  {
   "cell_type": "code",
   "execution_count": null,
   "metadata": {},
   "outputs": [],
   "source": []
  }
 ]
}