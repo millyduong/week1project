{
 "metadata": {
  "language_info": {
   "codemirror_mode": {
    "name": "ipython",
    "version": 3
   },
   "file_extension": ".py",
   "mimetype": "text/x-python",
   "name": "python",
   "nbconvert_exporter": "python",
   "pygments_lexer": "ipython3",
   "version": "3.7.8-final"
  },
  "orig_nbformat": 2,
  "kernelspec": {
   "name": "python3",
   "display_name": "Python 3"
  }
 },
 "nbformat": 4,
 "nbformat_minor": 2,
 "cells": [
  {
   "cell_type": "code",
   "execution_count": null,
   "metadata": {},
   "outputs": [],
   "source": [
    "print(\"hi\")"
   ]
  },
  {
   "cell_type": "code",
   "execution_count": null,
   "metadata": {},
   "outputs": [],
   "source": [
    "# Import Library\n",
    "import requests\n",
    "from bs4 import BeautifulSoup\n",
    "\n",
    "def get_url(url):\n",
    "    \"\"\"Get parsed HTML from url\n",
    "      Input: url to the webpage\n",
    "      Output: Parsed HTML text of the webpage\n",
    "    \"\"\"\n",
    "    # Send GET request\n",
    "    r = requests.get(url)\n",
    "\n",
    "    # Parse HTML text\n",
    "    soup = BeautifulSoup(r.text, 'html.parser')\n",
    "\n",
    "    return soup\n",
    "\n",
    "def scrape_vnexpress(url=\"loop url later\"):\n",
    "    \"\"\"Scrape the home page of vnexpress\n",
    "      Input: url to the webpage. Default: https://vnexpress.net/\n",
    "      Output: A list containing scraped data of all articles\n",
    "    \"\"\"\n",
    "\n",
    "    # Get parsed HTML\n",
    "    soup = get_url(url)\n",
    "\n",
    "\n",
    "    # Find all article tags\n",
    "    product_title = soup.find_all('', {'class':'name'})\n",
    "\n",
    "    # List containing data of all articles\n",
    "    data = []\n",
    "\n",
    "    # Extract information of each article\n",
    "    for article in articles:\n",
    "\n",
    "        d = {'title':'', 'url':'', 'image_url':'', 'description':''}\n",
    "        \n",
    "        try:\n",
    "          d['title'] = article.a['title']\n",
    "          d['url'] = article.a['href']\n",
    "          # It is fine to clean the data inside the scraper\n",
    "          # But it is more recommended to do it afterwards\n",
    "          d['description'] = article.p.text.strip('\\n')\n",
    "          if article.img:\n",
    "            d['image_url'] = article.img['data-src']  # or should we use ['src'] ?\n",
    "\n",
    "          # Append the dictionary to data list\n",
    "          data.append(d)\n",
    "        except:\n",
    "          # Skip if error and print error message\n",
    "          print(\"We got one article error!\")\n",
    "\n",
    "    return data\n",
    "scrape_vnexpress()"
   ]
  },
  {
   "cell_type": "code",
   "execution_count": 17,
   "metadata": {
    "tags": [
     "outputPrepend"
    ]
   },
   "outputs": [
    {
     "output_type": "stream",
     "name": "stdout",
     "text": [
      "                width:16px;\n                                    height:16px;\n                                \"\n                                src=\"https://salt.tikicdn.com/ts/upload/75/34/d2/4a9a0958a782da8930cdad8f08afff37.png\" />\n                            \n                            <p class=\"service-text\" style=\"\n                                    font-size: 11px;\n                                    line-height: 16px;\n                                    padding: 1px 0 0 5px;\n                                    color:#ffffff;\n                                \"> Giá Sốc! </p>\n                        </div>\n                    </div>\n                                \n                                    <span class=\"product-right-icon\">\n                                                                                            </span>\n                \n                \n            \n                \n                \n            </span>\n\n            \n                            <p class=\"icons\">\n                                                        </p>\n            \n            \n                            <div class=\"badge-service\">\n                    <div class=\"item\" \n                        style=\"\n                            background:                         \"\n                    >\n                        <img\n                            style=\"\n                                width:56px;\n                                height:16px;\n                            \"\n                            src=\"https://salt.tikicdn.com/ts/upload/9f/32/dd/8a8d39d4453399569dfb3e80fe01de75.png\" />\n                        \n                        <p class=\"service-text\" style=\"\n                                color:#009900;\n                            \">  </p>\n                    </div>\n                </div>\n                        \n\n            <p class=\"title\">\n                \n\n                Ram PC Kingston HyperX Fury Black 8GB...            </p>\n\n            \n            <p class=\"price-sale\">\n                <span class=\"final-price\">\n                    739.000đ                                            <span class=\"sale-tag sale-tag-square\">-50%</span>\n                                    </span>\n                                <span class=\"price-regular\">1.490.000đ</span>\n                                                    <span class=\"sale-tag sale-tag-square\">-50%</span>\n                            </p>\n                    </div>\n\n                    <div class=\"price-tag-wrap\">\n                            </div>\n        \n\n                    <div class=\"review-wrap\">\n                <p class=\"rating\">\n                    <span class=\"rating-content\">\n                        <i class=\"star\"></i>\n                        <i class=\"star\"></i>\n                        <i class=\"star\"></i>\n                        <i class=\"star\"></i>\n                        <i class=\"star\"></i>\n                        <span style=\"width:90%\">\n                            <i class=\"star\"></i>\n                            <i class=\"star\"></i>\n                            <i class=\"star\"></i>\n                            <i class=\"star\"></i>\n                            <i class=\"star\"></i>\n                        </span>\n                    </span>\n                </p>\n                                    <p class=\"review\">(111 nhận xét)</p>\n                            </div>\n        \n\n                \n                            \n                            \n        <div class=\"ship-label-wrapper\">\n                                                                    \n                            \n                                        \n                                                </div>\n        \n        \n        \n        \n    </a>\n    </div>\n\n                                            </div>\n\n                    \n<script>\n    var catalogPaging = {\n        pageNum: 1,\n        limitOnPage: 48,\n        totalResults: 10000    };\n</script>\n\n    <div class=\"list-pager\">\n        <ul>\n            \n                                <li><span class=\"current\">1</span></li>\n                                            <li><a class=\"normal\" href=\"/laptop-may-vi-tinh-linh-kien/c1846?src=c.1846.hamburger_menu_fly_out_banner&page=2\">2</a>\n                                                    <li><a class=\"normal\" href=\"/laptop-may-vi-tinh-linh-kien/c1846?src=c.1846.hamburger_menu_fly_out_banner&page=3\">3</a>\n                                                    <li><a class=\"normal\" href=\"/laptop-may-vi-tinh-linh-kien/c1846?src=c.1846.hamburger_menu_fly_out_banner&page=4\">4</a>\n                                                    <li><a class=\"normal\" href=\"/laptop-may-vi-tinh-linh-kien/c1846?src=c.1846.hamburger_menu_fly_out_banner&page=5\">5</a>\n                                \n                            <li><a rel=\"next\" class=\"next\" href=\"/laptop-may-vi-tinh-linh-kien/c1846?src=c.1846.hamburger_menu_fly_out_banner&page=2\"><i class=\"ico ico-arrow-next\"></i></a></li>\n                </ul>\n    </div>\n                    \n                                                                                \n                    <div class=\"box-recentlyviewed-product\" id=\"box-recentlyviewed-product\" data-impress-list-title=\"Category | Sản phẩm bạn đã xem\"></div>\n                            </div>\n            \n                        \n                         <div class=\"advisory-posts-box hide\">\n</div>\n<input name=\"advisory-api-url\" type=\"hidden\" value=\"https://tiki.vn/tu-van/?api\" />\n<input name=\"advisory-post-limit\" type=\"hidden\" value=\"8\" />\n        </div>\n        <div style=\"clear:both;\"></div>\n        <!--- Script TIKI - 1240x413 -->\n        <script async src=\"//e-vcdn.anthill.vn/delivery-tiki/asset/1.0/tiki.js\"></script>\n        <div id=\"ants-banner-9945307117\" class=\"9945307117\" style=\"margin-top: 10px;\" data-tiki-zone-id=\"9945307117\"></div>\n        <!--- end tiki Script -->\n    </div>\n</div>\n<script>\n    // NOTE: Only run this on client side, not server side \n    // or it would break the app\n\n    const createSpanElement = () => {\n        const span = document.createElement('span');\n        span.setAttribute('class', 'tiki-ads-badge');\n        span.innerHTML = 'Ad';\n        span.setAttribute(\n            'style',\n            'display: block; width: 25px; height: 15px; position: absolute; right: 2px; top: 2px; color: white; text-align: center; background: rgba(0,0,0,0.4); font-weight: bold; border-radius: 3px; line-height: 15px;'\n        );\n        return span;\n    };\n\n    const observeComponent = elementID => {\n        if (!elementID) {\n            return null;\n        }\n\n        const banner = document.getElementById(elementID); // useRef(null);\n\n        // Hack for modifying ants html code\n        const observer = new MutationObserver(mutationsList => {\n            let isModified = false;\n            for (let mutation of mutationsList) {\n                if (mutation.type === 'childList' && !isModified) {\n                    // A child node has been added or removed.\n                    const tikiZones = banner.getElementsByClassName('tiki-zone');\n                    const tikiBadge = banner.getElementsByClassName('tiki-ads-badge');\n                    // Only add the badge if there is no badge before\n                    if (tikiZones.length && !tikiBadge.length) {\n                    const tikiZone = tikiZones[0];\n                    const spanElement = createSpanElement();\n\n                    tikiZone.firstElementChild.remove();\n                    tikiZone.appendChild(spanElement);\n                    }\n                    // Just modify one time\n                    isModified = true;\n                }\n            }\n        });\n\n        // Start observing the target node for configured mutations\n        if (banner) {\n            observer.observe(banner, { childList: true });\n        }\n    };\n\n    observeComponent('ants-banner-9945324197');\n    observeComponent('ants-banner-9945307117');\n    \n</script>\n\n            \n            \n    \n    <footer id=\"footer\">\n        <!-- Begin MailChimp Signup Form -->\n        <div class=\"tiki-newsletter\">\n            <div class=\"container\">\n                <div class=\"row\">\n                    <div class=\"col-lg-12 clearfix\">\n                        <div class=\"tiki-newsletter-title clearfix\">\n                            <i class=\"tikicon icon-newsletter\"></i>\n                            <h3>Đăng ký nhận bản tin Tiki</h3>\n                            <h5>Đừng bỏ lỡ hàng ngàn sản phẩm và chương trình siêu hấp dẫn</h5>\n                        </div>\n                        <div class=\"mc-field-group\">\n                            <input type=\"email\" placeholder=\"Địa chỉ email của bạn\" class=\"tiki-home-email form-control\" id=\"mce-EMAIL\">\n                            <span class=\"tiki-newsletter-helper\"></span>\n                        </div>\n                        <button class=\"button btn btn-home-newsletter\" data-index=\"0\">Đăng ký</button>\n                    </div>                \n                </div>\n            </div>\n        </div>\n        <!--End mc_embed_signup-->\n        <hr class=\"line-bg-body\" />\n        <div class=\"list-footer-nav\">\n            <div class=\"container\">\n                <div class=\"footer-nav\" style=\"margin-right: 15px;width: 262px;\">\n                    <h4>HỖ TRỢ KHÁCH HÀNG</h4>\n                    <p class=\"hotline-number\">\n                        Hotline chăm sóc khách hàng: <a href=\"tel:19006035\">1900-6035</a><br/>\n                        <small>(1000đ/phút , 8-21h kể cả T7, CN)</small>\n                    </p>\n                    <div class=\"nav-list\">\n                        <a rel=\"nofollow\" href=\"http://hotro.tiki.vn/hc/vi\" target=\"_blank\">Các câu hỏi thường gặp</a>\n                        <a rel=\"nofollow\" href=\"http://hotro.tiki.vn/hc/vi/requests/new\" target=\"_blank\">Gửi yêu cầu hỗ trợ</a>\n                        <a rel=\"nofollow\" href=\"http://hotro.tiki.vn/hc/vi/categories/200126644\" target=\"_blank\">Hướng dẫn đặt hàng</a>\n                        <a rel=\"nofollow\" href=\"http://hotro.tiki.vn/hc/vi/categories/200123960\" target=\"_blank\">Phương thức vận chuyển</a>\n                        <a rel=\"nofollow\" href=\"https://tiki.vn/doi-tra-de-dang\" target=\"_blank\">Chính sách đổi trả</a>\n                        <a rel=\"nofollow\" href=\"https://hotro.tiki.vn/hc/vi/articles/360000822643\" target=\"_blank\">Chính sách hàng nhập khẩu</a>\n                        \n                        <p class=\"hotline-number-normal\">\n                            Hỗ trợ khách hàng: <a href=\"mailto:hotro@tiki.vn\">hotro@tiki.vn</a>\n                        </p>\n\n                        <p class=\"hotline-number-normal\">\n                            Báo lỗi bảo mật: <a href=\"mailto:security@tiki.vn\">security@tiki.vn</a>\n                        </p>\n\n                    </div>\n                </div>\n                <div class=\"footer-nav\">\n                    <h4>VỀ TIKI</h4>\n                    <div class=\"nav-list\">\n                        <a rel=\"nofollow\" href=\"https://hotro.tiki.vn/hc/vi/articles/201710754-Tiki-Xu-l%C3%A0-g%C3%AC-Gi%C3%A1-tr%E1%BB%8B-quy-%C4%91%E1%BB%95i-nh%C6%B0-th%E1%BA%BF-n%C3%A0o-\" target=\"_blank\">Giới thiệu Tiki</a>\n                        <a rel=\"nofollow\" href=\"http://tuyendung.tiki.vn\" target=\"_blank\">Tuyển Dụng</a>\n                        <a rel=\"nofollow\" href=\"https://tiki.vn/bao-mat-thanh-toan\" target=\"_blank\">Chính sách bảo mật thanh toán</a>\n                        <a rel=\"nofollow\" href=\"https://tiki.vn/bao-mat-thong-tin-ca-nhan\" target=\"_blank\">Chính sách bảo mật thông tin cá nhân</a>\n                        <a rel=\"nofollow\" href=\"https://hotro.tiki.vn/hc/vi/articles/115005575826\" target=\"_blank\">Chính sách giải quyết khiếu nại</a>\n                        <a rel=\"nofollow\" href=\"http://hotro.tiki.vn/hc/vi/articles/201971214\" target=\"_blank\">Điều khoản sử dụng</a>\n                        <a rel=\"nofollow\" href=\"http://hotro.tiki.vn/hc/vi/articles/204153170-Các-bước-sử-dụng-Tiki-xu-và-Mã-giảm-giá\" target=\"_blank\">Giới thiệu Tiki Xu</a>\n                        <a rel=\"nofollow\" href=\"https://tiki.vn/chuong-trinh/ban-hang-doanh-nghiep\" target=\"_blank\">Bán hàng doanh nghiệp</a>\n                    </div>\n                </div>\n                <div class=\"footer-nav\">\n                    <h4>HỢP TÁC VÀ LIÊN KẾT</h4>\n                    <div class=\"nav-list\">\n                        <a rel=\"nofollow\" href=\"https://tiki.vn/quy-che-hoat-dong-sgdtmdt\" target=\"_blank\">Quy chế hoạt động Sàn GDTMĐT</a>\n                        <!-- <a rel=\"nofollow\" href=\"http://www.foody.vn\" target=\"_blank\">Foody.vn - Ăn gì ở đâu</a>\n                        <a rel=\"nofollow\" href=\"http://www.ivivu.com\" target=\"_blank\">iVIVU.com - Đặt khách sạn giá rẻ</a> -->\n                        <a rel=\"nofollow\" href=\"https://tiki.vn/ban-hang-cung-tiki\" target=\"_blank\">Bán hàng cùng Tiki</a> \n                    </div>\n                    <!-- <div class=\"nav-other partner\">\n                        <a rel=\"nofollow\" href=\"http://www.foody.vn\" target=\"_blank\">\n                            <img src=\"https://salt.tikicdn.com/assets/img/icon/logo-foody-vietnam@3x.png\" />\n                        </a>\n                        <a rel=\"nofollow\" href=\"http://www.ivivu.com\" target=\"_blank\">\n                            <img src=\"https://salt.tikicdn.com/assets/img/icon/logo-ivivu@3x.png\" />\n                        </a>\n                    </div> -->\n                </div>\n                <div class=\"footer-nav\">\n                    <h4>PHƯƠNG THỨC THANH TOÁN</h4>\n                    <div class=\"nav-other payment\">\n                        <i class=\"tikicon icon-visa\"></i>\n                        <i class=\"tikicon icon-mastercard\"></i>\n                        <i class=\"tikicon icon-jcb\"></i>\n                        <i class=\"tikicon icon-cash\"></i>\n                        <i class=\"tikicon icon-internet-banking\"></i>\n                        <i class=\"tikicon icon-installment\"></i>\n                    </div>\n                </div>\n                <div class=\"footer-nav\">\n                    <h4>KẾT NỐI VỚI CHÚNG TÔI</h4>\n                    <div class=\"nav-other social-conn\">\n                        <a rel=\"nofollow\" href=\"https://www.facebook.com/tiki.vn/\" target=\"_blank\" title=\"Facebook\">\n                            <i class=\"tikicon icon-fb\"></i>\n                        </a>\n                        <a rel=\"nofollow\" href=\"https://www.youtube.com/user/TikiVBlog\" target=\"_blank\" title=\"Youtube\">\n                            <i class=\"tikicon icon-youtube\"></i>\n                        </a>\n                        <a rel=\"nofollow\" href=\"http://zalo.me/589673439383195103\" target=\"_blank\" title=\"Zalo\">\n                            <i class=\"tikicon icon-footer-zalo\"></i>\n                        </a>\n                        <!-- <a rel=\"nofollow\" href=\"\" target=\"_blank\">\n                            <img src=\"https://salt.tikicdn.com/assets/img/svg/ic-instagram.svg\" />\n                        </a>\n                        <a rel=\"nofollow\" href=\"\" target=\"_blank\">\n                            <img src=\"https://salt.tikicdn.com/assets/img/svg/ic-linkedin.svg\" />\n                        </a> -->\n                    </div>\n                    <h4 class=\"appstore-title\">TẢI ỨNG DỤNG TRÊN ĐIỆN THOẠI</h4>\n                    <div class=\"nav-other app-store\">\n                        <a rel=\"nofollow\" href=\"https://itunes.apple.com/vn/app/id958100553\" target=\"_blank\">\n                            <i class=\"tikicon icon-appstore\"></i>\n                        </a>\n                        <a rel=\"nofollow\" href=\"https://play.google.com/store/apps/details?id=vn.tiki.app.tikiandroid\" target=\"_blank\">\n                            <i class=\"tikicon icon-playstore\"></i>\n                        </a>\n                    </div>\n                </div>\n            </div>\n        </div>\n\n        <hr class=\"line-bg-body\" />\n\n        <address class=\"footer-address\">\n            <div class=\"container\">\n                <div class=\"address-office\">\n                    <i class=\"tikicon icon-location\"></i>\n                    <div class=\"info-address\">\n                        <p class=\"add-real\">\n                            <b>Địa chỉ văn phòng:</b>\n                            52 Út Tịch, phường 4, quận Tân Bình, thành phố Hồ Chí Minh\n                        </p>\n                        <p>\n                            Tiki nhận đặt hàng trực tuyến và giao hàng tận nơi, chưa hỗ trợ mua và nhận hàng trực tiếp tại văn phòng hoặc trung tâm xử lý đơn hàng\n                        </p>\n                    </div>\n                </div>\n                <div class=\"address-service\">\n                    <div class=\"info-address\">\n                        <p class=\"add-real\">\n                            <!-- <b>Địa chỉ gửi hàng đổi/trả/bảo hành:</b>\n                            Trung tâm xử lý đơn hàng TIKI - 367/F370 khu A75 Bạch Đằng, P.2, Q.Tân Bình, TP. Hồ Chí Minh -->\n                        </p>\n                        <p>\n                            \n                        </p>\n                    </div>\n                </div>\n            </div>\n        </address>\n\n        <div class=\"footer-cpy-right\">\n            <div class=\"container\">\n                <div class=\"cpy-right-info\">\n                    <h5>&copy; 2016 - Bản quyền của Công Ty Cổ Phần Ti Ki - Tiki.vn</h5>\n                    <p>Giấy chứng nhận Đăng ký Kinh doanh số 0309532909 do Sở Kế hoạch và Đầu tư Thành phố Hồ Chí Minh cấp ngày 06/01/2010</p>\n                </div>\n                <div class=\"cpy-right-info-right\">\n                    <a href=\"https://hotro.tiki.vn/hc/vi/articles/115005575826\" target=\"_blank\">\n                        <img src=\"https://salt.tikicdn.com/ts/upload/3d/6c/27/216e535ff06b1b925796957a017cbedb.png\" height=\"36px\" alt=\"\">\n                    </a>\n                    <a href=\"http://online.gov.vn/HomePage/WebsiteDisplay.aspx?DocId=21201\" target=\"_blank\">\n                        <span class=\"tikicon icon-bo-cong-thuong\"></span>\n                    </a>\n                </div>\n            </div>\n        </div>\n        <div id=\"coupon-delivery\"></div>\n            </footer>\n        <script>\n    var facebookAppId = 220558114759707;\n    // RECAPTCHA\n    var isNativeApp = false;\n    var rootUrl = 'https://tiki.vn';\n    var recaptchaKey = '6LcTOQUTAAAAAON_bNetEtgzm-yfBmCgLw17vxg_';\n    var renderRecaptcha = false;\n    var talalyticsStatus = 1;\n    var searchTuningVersion = \"tuning.v1\";\n\n    \n</script>\n\n\n        \n\n    \n\n<script type=\"text/javascript\">\n\tvar recentlyViewed = 1;\n</script>\n\n\n<script type=\"text/javascript\">\n\n    function recentlyViewTrack(productIds) {\n        var urlRecentlyviewTrack = \"https://tiki.vn/add_recentlyviewed?ids=\"+productIds+\"\";\n        $('body').append('<img style=\"width:0px;height:0px;opacity:0;\" src=\"'+urlRecentlyviewTrack+'\">');\n    }\n\n</script>\n\n\n\n\n    <script src=\"https://salt.tikicdn.com/desktop/dist/vendor.js?v=nvms_201119172311\"></script>    <script src=\"https://salt.tikicdn.com/desktop/dist/category.js?v=nvms_201119172311\"></script>\n<!--  BEGIN TOKEN -->\n<input type=\"hidden\" name=\"TIKI_CSRF_TOKEN\" value=\"YWFJQ3ZXUlEzRDZrMmppcVdYbnBBdz09\" />\n<!-- END TOKEN -->\n\n\n    \n    \n<script type=\"text/javascript\">\n    \n    </script>\n\n    \n    \n    \n\n<!-- HANDLE MESSAGE FROM FACEBOOK LOGIN -->\n<script>\n\tvar refFbLogin = \"\";\n\n\twindow.addEventListener(\n\t  \"message\",\n\t  function (event) {\n\t    if(event.data === 'fb_reload_page') {\n\t    \twindow.location.reload();\n\t    }\n\t  }, false);\n\n</script>\n<!-- END HANDLE MESSAGE FROM FACEBOOK -->\n\n<script type=\"text/javascript\">window.NREUM||(NREUM={});NREUM.info={\"beacon\":\"bam-cell.nr-data.net\",\"licenseKey\":\"5e70a0d5a3\",\"applicationID\":\"469087689\",\"transactionName\":\"YlcDYktZWxdTUkFcXFsdIkNKTFoJHVJUQVJZXQYZW0paE0FURxpaW1YETg==\",\"queueTime\":0,\"applicationTime\":67,\"atts\":\"ThAAFANDSBk=\",\"errorBeacon\":\"bam-cell.nr-data.net\",\"agent\":\"\"}</script></body>\n</html>\n"
     ]
    }
   ],
   "source": [
    "import requests\n",
    "headers = {'User-Agent': 'Mozilla/5.0 (Windows NT 10.0; Win64; x64) AppleWebKit/537.36 (KHTML, like Gecko) Chrome/70.0.3538.77 Safari/537.36'}\n",
    "r = requests.get('https://tiki.vn/laptop-may-vi-tinh/c1846?src=c.1846.hamburger_menu_fly_out_banner', headers=headers)\n",
    "print(r.text)"
   ]
  },
  {
   "cell_type": "code",
   "execution_count": 18,
   "metadata": {},
   "outputs": [
    {
     "output_type": "stream",
     "name": "stdout",
     "text": [
      "<!DOCTYPE html>\n<html class=\"no-js\" lang=\"\">\n <head>\n  <style>\n   html { background: #f4f4f4; } .async-hide body { opacity: 0 !important}\n  </style>\n  <script>\n   (function(a,s,y,n,c,h,i,d,e){s.className+=' '+y;h.start=1*new Date;\n    h.end=i=function(){s.className=s.className.replace(RegExp(' ?'+y),'')};\n    (a[n]=a[n]||[]).hide=h;setTimeout(function(){i();h.end=null},c);h.timeout=c;\n    })(window,document.documentElement,'async-hide','dataLayer',1500,\n    {'GTM-53B3KKW':true});\n  </script>\n  <script>\n   !function(){if('PerformanceLongTaskTiming' in window){var g=window.__tti={e:[]};\ng.o=new PerformanceObserver(function(l){g.e=g.e.concat(l.getEntries())});\ng.o.observe({entryTypes:['longtask']})}}();\n  </script>\n  <script>\n   (function() {    \n            function getCookie(name) {\n              var value = \"; \" + document.cookie;\n              var parts = value.split(\"; \" + name + \"=\");\n              if (parts.length == 2) return parts.pop().split(\";\").shift();\n            }\n         \n"
     ]
    }
   ],
   "source": [
    "from bs4 import BeautifulSoup\n",
    "\n",
    "# r.text is a HTML file so we will use html.parser\n",
    "soup = BeautifulSoup(r.text, 'html.parser')\n",
    "\n",
    "# Make the soup object look nicer\n",
    "print(soup.prettify()[:1000])"
   ]
  },
  {
   "cell_type": "code",
   "execution_count": 19,
   "metadata": {},
   "outputs": [
    {
     "output_type": "stream",
     "name": "stdout",
     "text": [
      "\nAll occurences of the product div sections:\nType: <class 'bs4.element.ResultSet'>\nNumber of products: 0\n"
     ]
    }
   ],
   "source": [
    "# All occurences of the products in that page\n",
    "print(\"\\nAll occurences of the product div sections:\")\n",
    "products = soup.find_all('a', {'class':'product-item'})\n",
    "print(\"Type:\", type(products))\n",
    "print(\"Number of products:\", len(products))"
   ]
  },
  {
   "cell_type": "code",
   "execution_count": null,
   "metadata": {},
   "outputs": [],
   "source": []
  }
 ]
}